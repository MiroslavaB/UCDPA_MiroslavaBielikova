{
 "cells": [
  {
   "cell_type": "markdown",
   "id": "1d43acb2-f569-43b2-9f1b-0877e9776250",
   "metadata": {},
   "source": [
    "# Phase 1: Data Exploring"
   ]
  },
  {
   "cell_type": "markdown",
   "id": "8a6db5c3-6105-4cae-97fb-f5064db4f602",
   "metadata": {},
   "source": [
    "During data exploring phase, we focus on familiarizing ourselves with the data. The objective is to develop a sufficiently comprehensive understanding of the data we're working with, gaining insights that can prove valuable in subsequent stages. \n",
    "\n",
    "1) First step is to import the necessary libraries and load our data to be able to get basic information.\"\n"
   ]
  },
  {
   "cell_type": "code",
   "execution_count": 54,
   "id": "cb36b1cc-b28b-4c78-9f9a-9ea4b58cc228",
   "metadata": {},
   "outputs": [],
   "source": [
    "# Import NumPy with alias np\n",
    "import numpy as np\n",
    "\n",
    "# Import Pandas for DataFrames with alias pd\n",
    "import pandas as pd\n",
    "\n",
    "# Import Matplotlib for visualization with alias plt\n",
    "import matplotlib.pyplot as plt\n",
    "\n",
    "# Display plots in the notebook\n",
    "%matplotlib inline\n",
    "\n",
    "# Import Seaborn for easier visualization with alias sns\n",
    "import seaborn as sns"
   ]
  },
  {
   "cell_type": "markdown",
   "id": "5c851811-746b-4880-8ca7-8342530eb492",
   "metadata": {},
   "source": [
    "Now that we have all our necessarry libraries loaded we are going to import the data for our analysis."
   ]
  },
  {
   "cell_type": "code",
   "execution_count": 55,
   "id": "fff5fcde-2807-4077-b088-240d69b8f2e2",
   "metadata": {},
   "outputs": [],
   "source": [
    "# csv file imported locally  \n",
    "df = pd.read_csv(\"C:/Users/mbiel/OneDrive/Desktop/Starbucks Nutrition Facts.csv\")"
   ]
  },
  {
   "cell_type": "markdown",
   "id": "6e586602-9819-430d-8b7b-17f4899dca74",
   "metadata": {},
   "source": [
    "Now that the file has been imported we can explore Starbucks's nutrition data so we can get basic understanding of the data."
   ]
  },
  {
   "cell_type": "markdown",
   "id": "3b479fff-e2cd-4810-bef5-162493d72d19",
   "metadata": {},
   "source": [
    "2) In the second step we will explore some basic information about the dataset we are about to use."
   ]
  },
  {
   "cell_type": "code",
   "execution_count": 56,
   "id": "276ce2e1-5d18-4e11-a8af-cfb9ad8e723d",
   "metadata": {},
   "outputs": [
    {
     "data": {
      "text/plain": [
       "(77, 7)"
      ]
     },
     "execution_count": 56,
     "metadata": {},
     "output_type": "execute_result"
    }
   ],
   "source": [
    "# Dimensions of the DataFrame\n",
    "df.shape"
   ]
  },
  {
   "cell_type": "markdown",
   "id": "21b3ecf5-4dc0-4987-a129-fc1cdacd9798",
   "metadata": {},
   "source": [
    "Dimensions of the DataFrame are 77 observations (rows) and 7 features (columns) in the dataset we imported.\n",
    "\n",
    "So let's see now what are the data types of these 7 features."
   ]
  },
  {
   "cell_type": "code",
   "execution_count": 57,
   "id": "cfaa2b69-159d-428e-aa80-a46da2a4e358",
   "metadata": {},
   "outputs": [
    {
     "data": {
      "text/plain": [
       "item         object\n",
       "calories      int64\n",
       "fat         float64\n",
       "carb          int64\n",
       "fiber         int64\n",
       "protein       int64\n",
       "type         object\n",
       "dtype: object"
      ]
     },
     "execution_count": 57,
     "metadata": {},
     "output_type": "execute_result"
    }
   ],
   "source": [
    "# Type of the features (columns)\n",
    "df.dtypes"
   ]
  },
  {
   "cell_type": "markdown",
   "id": "33a62e2e-afb9-4a6e-a736-3feb1eec0356",
   "metadata": {},
   "source": [
    "The majority of the data types are numeric (int64 and float64), except for 2 categorical (object):\n",
    "\n",
    "    1. item\n",
    "    2. type\n",
    "    \n",
    "To understand the dataset, let's see some observations. "
   ]
  },
  {
   "cell_type": "code",
   "execution_count": 58,
   "id": "2e1d92ed-f600-409b-a00f-16d1a467408a",
   "metadata": {},
   "outputs": [
    {
     "data": {
      "text/html": [
       "<div>\n",
       "<style scoped>\n",
       "    .dataframe tbody tr th:only-of-type {\n",
       "        vertical-align: middle;\n",
       "    }\n",
       "\n",
       "    .dataframe tbody tr th {\n",
       "        vertical-align: top;\n",
       "    }\n",
       "\n",
       "    .dataframe thead th {\n",
       "        text-align: right;\n",
       "    }\n",
       "</style>\n",
       "<table border=\"1\" class=\"dataframe\">\n",
       "  <thead>\n",
       "    <tr style=\"text-align: right;\">\n",
       "      <th></th>\n",
       "      <th>item</th>\n",
       "      <th>calories</th>\n",
       "      <th>fat</th>\n",
       "      <th>carb</th>\n",
       "      <th>fiber</th>\n",
       "      <th>protein</th>\n",
       "      <th>type</th>\n",
       "    </tr>\n",
       "  </thead>\n",
       "  <tbody>\n",
       "    <tr>\n",
       "      <th>0</th>\n",
       "      <td>8-Grain Roll</td>\n",
       "      <td>350</td>\n",
       "      <td>8.0</td>\n",
       "      <td>67</td>\n",
       "      <td>5</td>\n",
       "      <td>10</td>\n",
       "      <td>bakery</td>\n",
       "    </tr>\n",
       "    <tr>\n",
       "      <th>1</th>\n",
       "      <td>Apple Bran Muffin</td>\n",
       "      <td>350</td>\n",
       "      <td>9.0</td>\n",
       "      <td>64</td>\n",
       "      <td>7</td>\n",
       "      <td>6</td>\n",
       "      <td>bakery</td>\n",
       "    </tr>\n",
       "    <tr>\n",
       "      <th>2</th>\n",
       "      <td>Apple Fritter</td>\n",
       "      <td>420</td>\n",
       "      <td>20.0</td>\n",
       "      <td>59</td>\n",
       "      <td>0</td>\n",
       "      <td>5</td>\n",
       "      <td>bakery</td>\n",
       "    </tr>\n",
       "    <tr>\n",
       "      <th>3</th>\n",
       "      <td>Banana Nut Loaf</td>\n",
       "      <td>490</td>\n",
       "      <td>19.0</td>\n",
       "      <td>75</td>\n",
       "      <td>4</td>\n",
       "      <td>7</td>\n",
       "      <td>bakery</td>\n",
       "    </tr>\n",
       "    <tr>\n",
       "      <th>4</th>\n",
       "      <td>Birthday Cake Mini Doughnut</td>\n",
       "      <td>130</td>\n",
       "      <td>6.0</td>\n",
       "      <td>17</td>\n",
       "      <td>0</td>\n",
       "      <td>0</td>\n",
       "      <td>bakery</td>\n",
       "    </tr>\n",
       "    <tr>\n",
       "      <th>5</th>\n",
       "      <td>Blueberry Oat Bar</td>\n",
       "      <td>370</td>\n",
       "      <td>14.0</td>\n",
       "      <td>47</td>\n",
       "      <td>5</td>\n",
       "      <td>6</td>\n",
       "      <td>bakery</td>\n",
       "    </tr>\n",
       "    <tr>\n",
       "      <th>6</th>\n",
       "      <td>Blueberry Scone</td>\n",
       "      <td>460</td>\n",
       "      <td>22.0</td>\n",
       "      <td>61</td>\n",
       "      <td>2</td>\n",
       "      <td>7</td>\n",
       "      <td>bakery</td>\n",
       "    </tr>\n",
       "    <tr>\n",
       "      <th>7</th>\n",
       "      <td>Bountiful Blueberry Muffin</td>\n",
       "      <td>370</td>\n",
       "      <td>14.0</td>\n",
       "      <td>55</td>\n",
       "      <td>0</td>\n",
       "      <td>6</td>\n",
       "      <td>bakery</td>\n",
       "    </tr>\n",
       "    <tr>\n",
       "      <th>8</th>\n",
       "      <td>Butter Croissant</td>\n",
       "      <td>310</td>\n",
       "      <td>18.0</td>\n",
       "      <td>32</td>\n",
       "      <td>0</td>\n",
       "      <td>5</td>\n",
       "      <td>bakery</td>\n",
       "    </tr>\n",
       "    <tr>\n",
       "      <th>9</th>\n",
       "      <td>Cheese Danish</td>\n",
       "      <td>420</td>\n",
       "      <td>25.0</td>\n",
       "      <td>39</td>\n",
       "      <td>0</td>\n",
       "      <td>7</td>\n",
       "      <td>bakery</td>\n",
       "    </tr>\n",
       "  </tbody>\n",
       "</table>\n",
       "</div>"
      ],
      "text/plain": [
       "                          item  calories   fat  carb  fiber  protein    type\n",
       "0                 8-Grain Roll       350   8.0    67      5       10  bakery\n",
       "1            Apple Bran Muffin       350   9.0    64      7        6  bakery\n",
       "2                Apple Fritter       420  20.0    59      0        5  bakery\n",
       "3              Banana Nut Loaf       490  19.0    75      4        7  bakery\n",
       "4  Birthday Cake Mini Doughnut       130   6.0    17      0        0  bakery\n",
       "5            Blueberry Oat Bar       370  14.0    47      5        6  bakery\n",
       "6              Blueberry Scone       460  22.0    61      2        7  bakery\n",
       "7   Bountiful Blueberry Muffin       370  14.0    55      0        6  bakery\n",
       "8            Butter Croissant        310  18.0    32      0        5  bakery\n",
       "9                Cheese Danish       420  25.0    39      0        7  bakery"
      ]
     },
     "execution_count": 58,
     "metadata": {},
     "output_type": "execute_result"
    }
   ],
   "source": [
    "# Display the first 10 rows of the df\n",
    "df.head(10)"
   ]
  },
  {
   "cell_type": "markdown",
   "id": "2102b73d-f17d-4361-9e13-b4a4e3cb8b7c",
   "metadata": {},
   "source": [
    "Now the data makes more sense. We can see the first 10 rows. If we wouldn't specify it in our code we would get first 5 rows by default.\n",
    "\n",
    "But what if we need to also see the last 5 rows? Let's see some more observations."
   ]
  },
  {
   "cell_type": "code",
   "execution_count": 59,
   "id": "99a0ae1d-43a7-47af-92a5-69aad420db74",
   "metadata": {},
   "outputs": [
    {
     "data": {
      "text/html": [
       "<div>\n",
       "<style scoped>\n",
       "    .dataframe tbody tr th:only-of-type {\n",
       "        vertical-align: middle;\n",
       "    }\n",
       "\n",
       "    .dataframe tbody tr th {\n",
       "        vertical-align: top;\n",
       "    }\n",
       "\n",
       "    .dataframe thead th {\n",
       "        text-align: right;\n",
       "    }\n",
       "</style>\n",
       "<table border=\"1\" class=\"dataframe\">\n",
       "  <thead>\n",
       "    <tr style=\"text-align: right;\">\n",
       "      <th></th>\n",
       "      <th>item</th>\n",
       "      <th>calories</th>\n",
       "      <th>fat</th>\n",
       "      <th>carb</th>\n",
       "      <th>fiber</th>\n",
       "      <th>protein</th>\n",
       "      <th>type</th>\n",
       "    </tr>\n",
       "  </thead>\n",
       "  <tbody>\n",
       "    <tr>\n",
       "      <th>72</th>\n",
       "      <td>Tarragon Chicken Salad Sandwich</td>\n",
       "      <td>420</td>\n",
       "      <td>13.0</td>\n",
       "      <td>46</td>\n",
       "      <td>6</td>\n",
       "      <td>32</td>\n",
       "      <td>sandwich</td>\n",
       "    </tr>\n",
       "    <tr>\n",
       "      <th>73</th>\n",
       "      <td>Turkey &amp; Swiss Sandwich</td>\n",
       "      <td>390</td>\n",
       "      <td>13.0</td>\n",
       "      <td>36</td>\n",
       "      <td>2</td>\n",
       "      <td>34</td>\n",
       "      <td>sandwich</td>\n",
       "    </tr>\n",
       "    <tr>\n",
       "      <th>74</th>\n",
       "      <td>Greek Yogurt Honey Parfait</td>\n",
       "      <td>300</td>\n",
       "      <td>12.0</td>\n",
       "      <td>44</td>\n",
       "      <td>0</td>\n",
       "      <td>8</td>\n",
       "      <td>parfait</td>\n",
       "    </tr>\n",
       "    <tr>\n",
       "      <th>75</th>\n",
       "      <td>Peach Raspberry Yogurt Parfait</td>\n",
       "      <td>300</td>\n",
       "      <td>4.0</td>\n",
       "      <td>57</td>\n",
       "      <td>3</td>\n",
       "      <td>10</td>\n",
       "      <td>parfait</td>\n",
       "    </tr>\n",
       "    <tr>\n",
       "      <th>76</th>\n",
       "      <td>Strawberry &amp; Blueberry Yogurt Parfait</td>\n",
       "      <td>300</td>\n",
       "      <td>3.5</td>\n",
       "      <td>60</td>\n",
       "      <td>3</td>\n",
       "      <td>7</td>\n",
       "      <td>parfait</td>\n",
       "    </tr>\n",
       "  </tbody>\n",
       "</table>\n",
       "</div>"
      ],
      "text/plain": [
       "                                     item  calories   fat  carb  fiber  \\\n",
       "72        Tarragon Chicken Salad Sandwich       420  13.0    46      6   \n",
       "73                Turkey & Swiss Sandwich       390  13.0    36      2   \n",
       "74             Greek Yogurt Honey Parfait       300  12.0    44      0   \n",
       "75         Peach Raspberry Yogurt Parfait       300   4.0    57      3   \n",
       "76  Strawberry & Blueberry Yogurt Parfait       300   3.5    60      3   \n",
       "\n",
       "    protein      type  \n",
       "72       32  sandwich  \n",
       "73       34  sandwich  \n",
       "74        8   parfait  \n",
       "75       10   parfait  \n",
       "76        7   parfait  "
      ]
     },
     "execution_count": 59,
     "metadata": {},
     "output_type": "execute_result"
    }
   ],
   "source": [
    "# Display the last 5 rows of the df\n",
    "df.tail()"
   ]
  },
  {
   "cell_type": "markdown",
   "id": "d85998b7-e4d0-4749-814a-b0a3ed658623",
   "metadata": {},
   "source": [
    "After examining the data, we have gained a clearer understanding of its features and data types. It now appears more coherent and comprehensible.\n",
    "\n",
    "Based on the provided output, we can observe that there are no missing values (\"NaN\") among the observations, which is a positive outcome. However, we will delve deeper into exploration in the subsequent steps.\n",
    "\n",
    "Now that we have established a fundamental understanding of the dataset, let us proceed with further exploration.\n"
   ]
  },
  {
   "cell_type": "markdown",
   "id": "26700cd7-c09b-45dd-8c44-6c310f3c4773",
   "metadata": {},
   "source": [
    "## Sorting"
   ]
  },
  {
   "cell_type": "code",
   "execution_count": 13,
   "id": "7ae6ca74-a39a-4cff-8016-e59871c12e9e",
   "metadata": {},
   "outputs": [
    {
     "name": "stdout",
     "output_type": "stream",
     "text": [
      "                           item  calories  fat  carb  fiber  protein  \\\n",
      "66           Deluxe Fruit Blend        80  0.0    20      2        0   \n",
      "4   Birthday Cake Mini Doughnut       130  6.0    17      0        0   \n",
      "18   Double Fudge Mini Doughnut       130  7.0    16      0        0   \n",
      "30    Petite Vanilla Bean Scone       140  5.0    21      0        0   \n",
      "63    Starbucks Perfect Oatmeal       140  2.5    25      4        5   \n",
      "\n",
      "             type  \n",
      "66          salad  \n",
      "4          bakery  \n",
      "18         bakery  \n",
      "30         bakery  \n",
      "63  hot breakfast  \n"
     ]
    }
   ],
   "source": [
    "calories_ind = df.sort_values(\"calories\")\n",
    "print(calories_ind.head())"
   ]
  },
  {
   "cell_type": "markdown",
   "id": "b287d6e3-a8db-4c48-98ee-110dbf73122b",
   "metadata": {},
   "source": [
    "We can see that Deluxe Fruit Blend in the salad category has the lowest calorie count. So which item has the highest calorie count? Let's have a look."
   ]
  },
  {
   "cell_type": "code",
   "execution_count": 14,
   "id": "841b29c2-2998-489a-a068-5dfeb6374cef",
   "metadata": {},
   "outputs": [
    {
     "name": "stdout",
     "output_type": "stream",
     "text": [
      "                                            item  calories   fat  carb  fiber  \\\n",
      "21                         Iced Lemon Pound Cake       490  23.0    67      0   \n",
      "3                                Banana Nut Loaf       490  19.0    75      4   \n",
      "40                       Zucchini Walnut Muffin        490  28.0    52      2   \n",
      "16                        Cranberry Orange Scone       490  18.0    73      2   \n",
      "61  Sausage & Cheddar Classic Breakfast Sandwich       500  28.0    41      0   \n",
      "\n",
      "    protein           type  \n",
      "21        5         bakery  \n",
      "3         7         bakery  \n",
      "40        7         bakery  \n",
      "16        8         bakery  \n",
      "61       19  hot breakfast  \n"
     ]
    }
   ],
   "source": [
    "print(calories_ind.tail())"
   ]
  },
  {
   "cell_type": "markdown",
   "id": "0f95358d-fea1-45b9-b8c2-dff4f408b4f1",
   "metadata": {},
   "source": [
    "From all the items in our dataset we can see that Sausage & Cheddar Classic Breakfast Sandwich from Hot Breakfast calegory has the highest calorie count.\n",
    "\n",
    "## Indexing\n",
    "\n",
    "And what if we have to access any specific rows or columns in a DataFrame. We can use indexing so let's explore."
   ]
  },
  {
   "cell_type": "code",
   "execution_count": 20,
   "id": "64bf47cb-f5f7-44fa-be11-ed89b6457322",
   "metadata": {},
   "outputs": [
    {
     "name": "stdout",
     "output_type": "stream",
     "text": [
      "                                item  calories   fat  carb  fiber  protein  \\\n",
      "9                      Cheese Danish       420  25.0    39      0        7   \n",
      "10            Chocolate Chunk Cookie       380  17.0    51      2        4   \n",
      "11          Chocolate Cinnamon Bread       320  12.0    53      3        6   \n",
      "12               Chocolate Croissant       300  17.0    34      2        5   \n",
      "13  Chocolate Old-Fashioned Doughnut       420  21.0    57      2        5   \n",
      "14                      Chonga Bagel       310   5.0    52      3       12   \n",
      "15               Cinnamon Chip Scone       480  18.0    70      3        7   \n",
      "16            Cranberry Orange Scone       490  18.0    73      2        8   \n",
      "17          Double Chocolate Brownie       410  24.0    46      3        6   \n",
      "18        Double Fudge Mini Doughnut       130   7.0    16      0        0   \n",
      "19      Everything with Cheese Bagel       280   2.0    56      2       10   \n",
      "\n",
      "      type  \n",
      "9   bakery  \n",
      "10  bakery  \n",
      "11  bakery  \n",
      "12  bakery  \n",
      "13  bakery  \n",
      "14  bakery  \n",
      "15  bakery  \n",
      "16  bakery  \n",
      "17  bakery  \n",
      "18  bakery  \n",
      "19  bakery  \n"
     ]
    }
   ],
   "source": [
    "# We wanna see each item from the row 10 to row 20\n",
    "subset_rows = df.loc[9:19]\n",
    "print(subset_rows)"
   ]
  },
  {
   "cell_type": "code",
   "execution_count": 38,
   "id": "1a4926f2-7c05-4a8e-be3b-4f00efa83d83",
   "metadata": {},
   "outputs": [
    {
     "data": {
      "text/html": [
       "<div>\n",
       "<style scoped>\n",
       "    .dataframe tbody tr th:only-of-type {\n",
       "        vertical-align: middle;\n",
       "    }\n",
       "\n",
       "    .dataframe tbody tr th {\n",
       "        vertical-align: top;\n",
       "    }\n",
       "\n",
       "    .dataframe thead th {\n",
       "        text-align: right;\n",
       "    }\n",
       "</style>\n",
       "<table border=\"1\" class=\"dataframe\">\n",
       "  <thead>\n",
       "    <tr style=\"text-align: right;\">\n",
       "      <th></th>\n",
       "      <th>calories</th>\n",
       "      <th>fat</th>\n",
       "      <th>protein</th>\n",
       "    </tr>\n",
       "    <tr>\n",
       "      <th>item</th>\n",
       "      <th></th>\n",
       "      <th></th>\n",
       "      <th></th>\n",
       "    </tr>\n",
       "  </thead>\n",
       "  <tbody>\n",
       "    <tr>\n",
       "      <th>Cheese Danish</th>\n",
       "      <td>420</td>\n",
       "      <td>25.0</td>\n",
       "      <td>7</td>\n",
       "    </tr>\n",
       "    <tr>\n",
       "      <th>Chonga Bagel</th>\n",
       "      <td>310</td>\n",
       "      <td>5.0</td>\n",
       "      <td>12</td>\n",
       "    </tr>\n",
       "    <tr>\n",
       "      <th>Everything with Cheese Bagel</th>\n",
       "      <td>280</td>\n",
       "      <td>2.0</td>\n",
       "      <td>10</td>\n",
       "    </tr>\n",
       "  </tbody>\n",
       "</table>\n",
       "</div>"
      ],
      "text/plain": [
       "                              calories   fat  protein\n",
       "item                                                 \n",
       "Cheese Danish                      420  25.0        7\n",
       "Chonga Bagel                       310   5.0       12\n",
       "Everything with Cheese Bagel       280   2.0       10"
      ]
     },
     "execution_count": 38,
     "metadata": {},
     "output_type": "execute_result"
    }
   ],
   "source": [
    "# Returning Rows by Location (label)\n",
    "df_labelled = df.set_index('item')\n",
    "df_labelled.loc[['Cheese Danish','Chonga Bagel','Everything with Cheese Bagel'], ['calories','fat','protein']]"
   ]
  },
  {
   "cell_type": "markdown",
   "id": "9381f84b-22b8-4a81-b084-ed8cb8a8a5d4",
   "metadata": {},
   "source": [
    "## Groupby\n",
    "\n",
    "We can also group the data based on specific columns using the groupby() method."
   ]
  },
  {
   "cell_type": "code",
   "execution_count": 21,
   "id": "32ca7c7d-93b0-4f67-b5ac-84aecca2af5a",
   "metadata": {},
   "outputs": [
    {
     "name": "stdout",
     "output_type": "stream",
     "text": [
      "item\n",
      "8-Grain Roll                                 8.0\n",
      "Apple Bran Muffin                            9.0\n",
      "Apple Fritter                               20.0\n",
      "Apple Pie                                    7.0\n",
      "Bacon & Gouda Artisan Breakfast Sandwich    18.0\n",
      "Name: fat, dtype: float64\n"
     ]
    }
   ],
   "source": [
    "#Let's group each item to see clearly what is the fat content\n",
    "grouped_df = df.groupby(\"item\")[\"fat\"].mean()\n",
    "print(grouped_df.head())"
   ]
  },
  {
   "cell_type": "markdown",
   "id": "901e4b5c-431c-441b-add6-462c9de1b118",
   "metadata": {},
   "source": [
    "## Conditional statement"
   ]
  },
  {
   "cell_type": "code",
   "execution_count": 35,
   "id": "6d28ca74-9196-4158-9cfe-ddcb210f89e4",
   "metadata": {},
   "outputs": [
    {
     "name": "stdout",
     "output_type": "stream",
     "text": [
      "                          item  calories   fat  carb  fiber  protein    type\n",
      "0                 8-Grain Roll       350   8.0    67      5       10  bakery\n",
      "1            Apple Bran Muffin       350   9.0    64      7        6  bakery\n",
      "4  Birthday Cake Mini Doughnut       130   6.0    17      0        0  bakery\n",
      "5            Blueberry Oat Bar       370  14.0    47      5        6  bakery\n",
      "7   Bountiful Blueberry Muffin       370  14.0    55      0        6  bakery\n"
     ]
    }
   ],
   "source": [
    "# Some conditional statment - we wanna see everything what has calorie count less than 400 calories\n",
    "filtered_df = df[df[\"calories\"]<400]\n",
    "print(filtered_df.head())"
   ]
  },
  {
   "cell_type": "markdown",
   "id": "75df2564-d904-45f9-b40c-c04a14a3b44c",
   "metadata": {},
   "source": [
    "## Bitwise Operations"
   ]
  },
  {
   "cell_type": "code",
   "execution_count": 40,
   "id": "ae5013d9-c164-41eb-8ed1-13721febbaf0",
   "metadata": {},
   "outputs": [
    {
     "data": {
      "text/plain": [
       "0      True\n",
       "1      True\n",
       "2     False\n",
       "3     False\n",
       "4     False\n",
       "      ...  \n",
       "72    False\n",
       "73    False\n",
       "74    False\n",
       "75    False\n",
       "76    False\n",
       "Name: calories, Length: 77, dtype: bool"
      ]
     },
     "execution_count": 40,
     "metadata": {},
     "output_type": "execute_result"
    }
   ],
   "source": [
    "(df['calories'] >= 350) & (df['calories'] < 370)"
   ]
  },
  {
   "cell_type": "markdown",
   "id": "367ca300-529f-404b-b798-15c766369599",
   "metadata": {},
   "source": [
    "## Visualisation\n",
    "\n",
    "1) Numeric features"
   ]
  },
  {
   "cell_type": "code",
   "execution_count": 22,
   "id": "d92d1efa-a5cc-412b-840b-e6f74cc46e6f",
   "metadata": {},
   "outputs": [
    {
     "data": {
      "image/png": "[encoded data removed]",
      "text/plain": [
       "<Figure size 720x1080 with 6 Axes>"
      ]
     },
     "metadata": {
      "needs_background": "light"
     },
     "output_type": "display_data"
    }
   ],
   "source": [
    "# Plot histogram grid of the numeric features, with figure size of 10 by 15\n",
    "\n",
    "df.hist(figsize=(10,15))\n",
    "\n",
    "# Clear the text \"residue\"\n",
    "plt.show()"
   ]
  },
  {
   "cell_type": "code",
   "execution_count": 23,
   "id": "b8528268-1d19-4672-9947-00017832ec86",
   "metadata": {},
   "outputs": [
    {
     "data": {
      "text/html": [
       "<div>\n",
       "<style scoped>\n",
       "    .dataframe tbody tr th:only-of-type {\n",
       "        vertical-align: middle;\n",
       "    }\n",
       "\n",
       "    .dataframe tbody tr th {\n",
       "        vertical-align: top;\n",
       "    }\n",
       "\n",
       "    .dataframe thead th {\n",
       "        text-align: right;\n",
       "    }\n",
       "</style>\n",
       "<table border=\"1\" class=\"dataframe\">\n",
       "  <thead>\n",
       "    <tr style=\"text-align: right;\">\n",
       "      <th></th>\n",
       "      <th>calories</th>\n",
       "      <th>fat</th>\n",
       "      <th>carb</th>\n",
       "      <th>fiber</th>\n",
       "      <th>protein</th>\n",
       "    </tr>\n",
       "  </thead>\n",
       "  <tbody>\n",
       "    <tr>\n",
       "      <th>count</th>\n",
       "      <td>77.000000</td>\n",
       "      <td>77.000000</td>\n",
       "      <td>77.000000</td>\n",
       "      <td>77.000000</td>\n",
       "      <td>77.000000</td>\n",
       "    </tr>\n",
       "    <tr>\n",
       "      <th>mean</th>\n",
       "      <td>338.831169</td>\n",
       "      <td>13.766234</td>\n",
       "      <td>44.870130</td>\n",
       "      <td>2.220779</td>\n",
       "      <td>9.480519</td>\n",
       "    </tr>\n",
       "    <tr>\n",
       "      <th>std</th>\n",
       "      <td>105.368701</td>\n",
       "      <td>7.095488</td>\n",
       "      <td>16.551634</td>\n",
       "      <td>2.112764</td>\n",
       "      <td>8.079556</td>\n",
       "    </tr>\n",
       "    <tr>\n",
       "      <th>min</th>\n",
       "      <td>80.000000</td>\n",
       "      <td>0.000000</td>\n",
       "      <td>16.000000</td>\n",
       "      <td>0.000000</td>\n",
       "      <td>0.000000</td>\n",
       "    </tr>\n",
       "    <tr>\n",
       "      <th>25%</th>\n",
       "      <td>300.000000</td>\n",
       "      <td>9.000000</td>\n",
       "      <td>31.000000</td>\n",
       "      <td>0.000000</td>\n",
       "      <td>5.000000</td>\n",
       "    </tr>\n",
       "    <tr>\n",
       "      <th>50%</th>\n",
       "      <td>350.000000</td>\n",
       "      <td>13.000000</td>\n",
       "      <td>45.000000</td>\n",
       "      <td>2.000000</td>\n",
       "      <td>7.000000</td>\n",
       "    </tr>\n",
       "    <tr>\n",
       "      <th>75%</th>\n",
       "      <td>420.000000</td>\n",
       "      <td>18.000000</td>\n",
       "      <td>59.000000</td>\n",
       "      <td>4.000000</td>\n",
       "      <td>15.000000</td>\n",
       "    </tr>\n",
       "    <tr>\n",
       "      <th>max</th>\n",
       "      <td>500.000000</td>\n",
       "      <td>28.000000</td>\n",
       "      <td>80.000000</td>\n",
       "      <td>7.000000</td>\n",
       "      <td>34.000000</td>\n",
       "    </tr>\n",
       "  </tbody>\n",
       "</table>\n",
       "</div>"
      ],
      "text/plain": [
       "         calories        fat       carb      fiber    protein\n",
       "count   77.000000  77.000000  77.000000  77.000000  77.000000\n",
       "mean   338.831169  13.766234  44.870130   2.220779   9.480519\n",
       "std    105.368701   7.095488  16.551634   2.112764   8.079556\n",
       "min     80.000000   0.000000  16.000000   0.000000   0.000000\n",
       "25%    300.000000   9.000000  31.000000   0.000000   5.000000\n",
       "50%    350.000000  13.000000  45.000000   2.000000   7.000000\n",
       "75%    420.000000  18.000000  59.000000   4.000000  15.000000\n",
       "max    500.000000  28.000000  80.000000   7.000000  34.000000"
      ]
     },
     "execution_count": 23,
     "metadata": {},
     "output_type": "execute_result"
    }
   ],
   "source": [
    "# Summarize numerical features\n",
    "df.describe()"
   ]
  },
  {
   "cell_type": "markdown",
   "id": "7ac05503-519f-499d-84b7-b4e654f067c6",
   "metadata": {},
   "source": [
    "2) Categorical features\n",
    "\n",
    "Now that we have seen distributions of numerical features, let's take a look at the distributions of our categorical features."
   ]
  },
  {
   "cell_type": "code",
   "execution_count": 24,
   "id": "35fc70fe-11b3-46a7-a8be-b10efa6c3d9e",
   "metadata": {},
   "outputs": [
    {
     "data": {
      "text/html": [
       "<div>\n",
       "<style scoped>\n",
       "    .dataframe tbody tr th:only-of-type {\n",
       "        vertical-align: middle;\n",
       "    }\n",
       "\n",
       "    .dataframe tbody tr th {\n",
       "        vertical-align: top;\n",
       "    }\n",
       "\n",
       "    .dataframe thead th {\n",
       "        text-align: right;\n",
       "    }\n",
       "</style>\n",
       "<table border=\"1\" class=\"dataframe\">\n",
       "  <thead>\n",
       "    <tr style=\"text-align: right;\">\n",
       "      <th></th>\n",
       "      <th>item</th>\n",
       "      <th>type</th>\n",
       "    </tr>\n",
       "  </thead>\n",
       "  <tbody>\n",
       "    <tr>\n",
       "      <th>count</th>\n",
       "      <td>77</td>\n",
       "      <td>77</td>\n",
       "    </tr>\n",
       "    <tr>\n",
       "      <th>unique</th>\n",
       "      <td>77</td>\n",
       "      <td>7</td>\n",
       "    </tr>\n",
       "    <tr>\n",
       "      <th>top</th>\n",
       "      <td>Chocolate Old-Fashioned Doughnut</td>\n",
       "      <td>bakery</td>\n",
       "    </tr>\n",
       "    <tr>\n",
       "      <th>freq</th>\n",
       "      <td>1</td>\n",
       "      <td>41</td>\n",
       "    </tr>\n",
       "  </tbody>\n",
       "</table>\n",
       "</div>"
      ],
      "text/plain": [
       "                                    item    type\n",
       "count                                 77      77\n",
       "unique                                77       7\n",
       "top     Chocolate Old-Fashioned Doughnut  bakery\n",
       "freq                                   1      41"
      ]
     },
     "execution_count": 24,
     "metadata": {},
     "output_type": "execute_result"
    }
   ],
   "source": [
    "# Summarize categorical features\n",
    "df.describe(include=['object'])"
   ]
  },
  {
   "cell_type": "code",
   "execution_count": 25,
   "id": "b51d012f-3da7-4b62-96ef-540fe18e24e2",
   "metadata": {},
   "outputs": [
    {
     "data": {
      "image/png": "[encoded data removed]",
      "text/plain": [
       "<Figure size 432x288 with 1 Axes>"
      ]
     },
     "metadata": {
      "needs_background": "light"
     },
     "output_type": "display_data"
    }
   ],
   "source": [
    "# Plot bar plot for categorical feature \"type\" as we are interested to see which type contains the most of the items.\n",
    "sns.countplot(x=\"type\", data=df)\n",
    "plt.show()"
   ]
  },
  {
   "cell_type": "markdown",
   "id": "0d655b2e-be15-4976-9c5f-2c0362f10808",
   "metadata": {},
   "source": [
    "Based on the provided output we can see that bakery is a catogory that has the highest number of items (products).\n",
    "\n",
    "Let's have a look at our items now."
   ]
  },
  {
   "cell_type": "code",
   "execution_count": 60,
   "id": "b9256bfc-2240-43d1-909f-e9a766a408c8",
   "metadata": {},
   "outputs": [
    {
     "data": {
      "image/png": "[encoded data removed]",
      "text/plain": [
       "<Figure size 720x1080 with 1 Axes>"
      ]
     },
     "metadata": {
      "needs_background": "light"
     },
     "output_type": "display_data"
    }
   ],
   "source": [
    "# Plot the Item distribution\n",
    "plt.figure(figsize=(10,15))\n",
    "\n",
    "# Bar plot by item\n",
    "sns.countplot(y='item', data=df)\n",
    "plt.show()"
   ]
  },
  {
   "cell_type": "markdown",
   "id": "48fb9a7a-7f27-41dc-91fe-d2b70fce59d6",
   "metadata": {},
   "source": [
    "## Segmentations\n",
    "\n",
    "Let's create some segmentations to observe the reationship between our categorical and numerical features."
   ]
  },
  {
   "cell_type": "code",
   "execution_count": 28,
   "id": "357a33c1-96d8-4be5-b9a9-ce425e8f768f",
   "metadata": {},
   "outputs": [
    {
     "data": {
      "image/png": "[encoded data removed]",
      "text/plain": [
       "<Figure size 432x288 with 1 Axes>"
      ]
     },
     "metadata": {
      "needs_background": "light"
     },
     "output_type": "display_data"
    }
   ],
   "source": [
    "sns.boxplot(y='type', x='protein', data=df)\n",
    "plt.show()"
   ]
  },
  {
   "cell_type": "code",
   "execution_count": 29,
   "id": "12514345-9a1b-4ba2-a60e-7399333e66fd",
   "metadata": {},
   "outputs": [
    {
     "data": {
      "text/html": [
       "<div>\n",
       "<style scoped>\n",
       "    .dataframe tbody tr th:only-of-type {\n",
       "        vertical-align: middle;\n",
       "    }\n",
       "\n",
       "    .dataframe tbody tr th {\n",
       "        vertical-align: top;\n",
       "    }\n",
       "\n",
       "    .dataframe thead tr th {\n",
       "        text-align: left;\n",
       "    }\n",
       "\n",
       "    .dataframe thead tr:last-of-type th {\n",
       "        text-align: right;\n",
       "    }\n",
       "</style>\n",
       "<table border=\"1\" class=\"dataframe\">\n",
       "  <thead>\n",
       "    <tr>\n",
       "      <th></th>\n",
       "      <th colspan=\"2\" halign=\"left\">calories</th>\n",
       "      <th colspan=\"2\" halign=\"left\">fat</th>\n",
       "      <th colspan=\"2\" halign=\"left\">carb</th>\n",
       "      <th colspan=\"2\" halign=\"left\">fiber</th>\n",
       "      <th colspan=\"2\" halign=\"left\">protein</th>\n",
       "    </tr>\n",
       "    <tr>\n",
       "      <th></th>\n",
       "      <th>mean</th>\n",
       "      <th>std</th>\n",
       "      <th>mean</th>\n",
       "      <th>std</th>\n",
       "      <th>mean</th>\n",
       "      <th>std</th>\n",
       "      <th>mean</th>\n",
       "      <th>std</th>\n",
       "      <th>mean</th>\n",
       "      <th>std</th>\n",
       "    </tr>\n",
       "    <tr>\n",
       "      <th>type</th>\n",
       "      <th></th>\n",
       "      <th></th>\n",
       "      <th></th>\n",
       "      <th></th>\n",
       "      <th></th>\n",
       "      <th></th>\n",
       "      <th></th>\n",
       "      <th></th>\n",
       "      <th></th>\n",
       "      <th></th>\n",
       "    </tr>\n",
       "  </thead>\n",
       "  <tbody>\n",
       "    <tr>\n",
       "      <th>bakery</th>\n",
       "      <td>368.780488</td>\n",
       "      <td>95.294153</td>\n",
       "      <td>14.560976</td>\n",
       "      <td>7.124075</td>\n",
       "      <td>54.341463</td>\n",
       "      <td>14.919132</td>\n",
       "      <td>1.951220</td>\n",
       "      <td>1.856761</td>\n",
       "      <td>5.926829</td>\n",
       "      <td>2.969766</td>\n",
       "    </tr>\n",
       "    <tr>\n",
       "      <th>bistro box</th>\n",
       "      <td>377.500000</td>\n",
       "      <td>59.701639</td>\n",
       "      <td>18.375000</td>\n",
       "      <td>6.885544</td>\n",
       "      <td>33.625000</td>\n",
       "      <td>8.814558</td>\n",
       "      <td>5.125000</td>\n",
       "      <td>1.125992</td>\n",
       "      <td>19.125000</td>\n",
       "      <td>4.882549</td>\n",
       "    </tr>\n",
       "    <tr>\n",
       "      <th>hot breakfast</th>\n",
       "      <td>325.000000</td>\n",
       "      <td>98.994949</td>\n",
       "      <td>13.687500</td>\n",
       "      <td>7.968409</td>\n",
       "      <td>33.250000</td>\n",
       "      <td>5.970164</td>\n",
       "      <td>2.250000</td>\n",
       "      <td>2.549510</td>\n",
       "      <td>16.125000</td>\n",
       "      <td>4.853202</td>\n",
       "    </tr>\n",
       "    <tr>\n",
       "      <th>parfait</th>\n",
       "      <td>300.000000</td>\n",
       "      <td>0.000000</td>\n",
       "      <td>6.500000</td>\n",
       "      <td>4.769696</td>\n",
       "      <td>53.666667</td>\n",
       "      <td>8.504901</td>\n",
       "      <td>2.000000</td>\n",
       "      <td>1.732051</td>\n",
       "      <td>8.333333</td>\n",
       "      <td>1.527525</td>\n",
       "    </tr>\n",
       "    <tr>\n",
       "      <th>petite</th>\n",
       "      <td>177.777778</td>\n",
       "      <td>10.929064</td>\n",
       "      <td>9.333333</td>\n",
       "      <td>1.802776</td>\n",
       "      <td>23.333333</td>\n",
       "      <td>1.732051</td>\n",
       "      <td>0.000000</td>\n",
       "      <td>0.000000</td>\n",
       "      <td>1.111111</td>\n",
       "      <td>1.054093</td>\n",
       "    </tr>\n",
       "    <tr>\n",
       "      <th>salad</th>\n",
       "      <td>80.000000</td>\n",
       "      <td>NaN</td>\n",
       "      <td>0.000000</td>\n",
       "      <td>NaN</td>\n",
       "      <td>20.000000</td>\n",
       "      <td>NaN</td>\n",
       "      <td>2.000000</td>\n",
       "      <td>NaN</td>\n",
       "      <td>0.000000</td>\n",
       "      <td>NaN</td>\n",
       "    </tr>\n",
       "    <tr>\n",
       "      <th>sandwich</th>\n",
       "      <td>395.714286</td>\n",
       "      <td>36.903994</td>\n",
       "      <td>14.714286</td>\n",
       "      <td>6.074929</td>\n",
       "      <td>43.000000</td>\n",
       "      <td>4.760952</td>\n",
       "      <td>3.428571</td>\n",
       "      <td>1.618347</td>\n",
       "      <td>24.285714</td>\n",
       "      <td>8.056349</td>\n",
       "    </tr>\n",
       "  </tbody>\n",
       "</table>\n",
       "</div>"
      ],
      "text/plain": [
       "                 calories                   fat                 carb  \\\n",
       "                     mean        std       mean       std       mean   \n",
       "type                                                                   \n",
       "bakery         368.780488  95.294153  14.560976  7.124075  54.341463   \n",
       "bistro box     377.500000  59.701639  18.375000  6.885544  33.625000   \n",
       "hot breakfast  325.000000  98.994949  13.687500  7.968409  33.250000   \n",
       "parfait        300.000000   0.000000   6.500000  4.769696  53.666667   \n",
       "petite         177.777778  10.929064   9.333333  1.802776  23.333333   \n",
       "salad           80.000000        NaN   0.000000       NaN  20.000000   \n",
       "sandwich       395.714286  36.903994  14.714286  6.074929  43.000000   \n",
       "\n",
       "                             fiber              protein            \n",
       "                     std      mean       std       mean       std  \n",
       "type                                                               \n",
       "bakery         14.919132  1.951220  1.856761   5.926829  2.969766  \n",
       "bistro box      8.814558  5.125000  1.125992  19.125000  4.882549  \n",
       "hot breakfast   5.970164  2.250000  2.549510  16.125000  4.853202  \n",
       "parfait         8.504901  2.000000  1.732051   8.333333  1.527525  \n",
       "petite          1.732051  0.000000  0.000000   1.111111  1.054093  \n",
       "salad                NaN  2.000000       NaN   0.000000       NaN  \n",
       "sandwich        4.760952  3.428571  1.618347  24.285714  8.056349  "
      ]
     },
     "execution_count": 29,
     "metadata": {},
     "output_type": "execute_result"
    }
   ],
   "source": [
    "# Segment by type and display the means and standard deviations within each class\n",
    "df.groupby('type').agg(['mean', 'std'])"
   ]
  },
  {
   "cell_type": "markdown",
   "id": "9f8ceeb9-bf80-44a9-8ca9-7d087d09cf24",
   "metadata": {},
   "source": [
    "## Correlations\n",
    "\n",
    "And what if we want to know what is the relationship between numerical features and other numerical features? Let's explore."
   ]
  },
  {
   "cell_type": "code",
   "execution_count": 30,
   "id": "9b26e836-8dca-4314-b520-fa7d55f7704e",
   "metadata": {},
   "outputs": [
    {
     "data": {
      "text/html": [
       "<div>\n",
       "<style scoped>\n",
       "    .dataframe tbody tr th:only-of-type {\n",
       "        vertical-align: middle;\n",
       "    }\n",
       "\n",
       "    .dataframe tbody tr th {\n",
       "        vertical-align: top;\n",
       "    }\n",
       "\n",
       "    .dataframe thead th {\n",
       "        text-align: right;\n",
       "    }\n",
       "</style>\n",
       "<table border=\"1\" class=\"dataframe\">\n",
       "  <thead>\n",
       "    <tr style=\"text-align: right;\">\n",
       "      <th></th>\n",
       "      <th>calories</th>\n",
       "      <th>fat</th>\n",
       "      <th>carb</th>\n",
       "      <th>fiber</th>\n",
       "      <th>protein</th>\n",
       "    </tr>\n",
       "  </thead>\n",
       "  <tbody>\n",
       "    <tr>\n",
       "      <th>calories</th>\n",
       "      <td>1.000000</td>\n",
       "      <td>0.758682</td>\n",
       "      <td>0.674999</td>\n",
       "      <td>0.260645</td>\n",
       "      <td>0.410398</td>\n",
       "    </tr>\n",
       "    <tr>\n",
       "      <th>fat</th>\n",
       "      <td>0.758682</td>\n",
       "      <td>1.000000</td>\n",
       "      <td>0.144547</td>\n",
       "      <td>-0.028549</td>\n",
       "      <td>0.223470</td>\n",
       "    </tr>\n",
       "    <tr>\n",
       "      <th>carb</th>\n",
       "      <td>0.674999</td>\n",
       "      <td>0.144547</td>\n",
       "      <td>1.000000</td>\n",
       "      <td>0.213044</td>\n",
       "      <td>-0.050789</td>\n",
       "    </tr>\n",
       "    <tr>\n",
       "      <th>fiber</th>\n",
       "      <td>0.260645</td>\n",
       "      <td>-0.028549</td>\n",
       "      <td>0.213044</td>\n",
       "      <td>1.000000</td>\n",
       "      <td>0.488564</td>\n",
       "    </tr>\n",
       "    <tr>\n",
       "      <th>protein</th>\n",
       "      <td>0.410398</td>\n",
       "      <td>0.223470</td>\n",
       "      <td>-0.050789</td>\n",
       "      <td>0.488564</td>\n",
       "      <td>1.000000</td>\n",
       "    </tr>\n",
       "  </tbody>\n",
       "</table>\n",
       "</div>"
      ],
      "text/plain": [
       "          calories       fat      carb     fiber   protein\n",
       "calories  1.000000  0.758682  0.674999  0.260645  0.410398\n",
       "fat       0.758682  1.000000  0.144547 -0.028549  0.223470\n",
       "carb      0.674999  0.144547  1.000000  0.213044 -0.050789\n",
       "fiber     0.260645 -0.028549  0.213044  1.000000  0.488564\n",
       "protein   0.410398  0.223470 -0.050789  0.488564  1.000000"
      ]
     },
     "execution_count": 30,
     "metadata": {},
     "output_type": "execute_result"
    }
   ],
   "source": [
    "# Create correlations dataframe from df\n",
    "\n",
    "correlations = df.corr()\n",
    "correlations"
   ]
  },
  {
   "cell_type": "markdown",
   "id": "2818bc40-b9f3-440b-8cad-a28486640f50",
   "metadata": {},
   "source": [
    "# Phase 2: DataFrame Cleaning"
   ]
  },
  {
   "cell_type": "markdown",
   "id": "84dec50d-50aa-4d7f-8296-362ae8ca3b90",
   "metadata": {},
   "source": [
    "Now that we have gained insight into the data we are working with, it's time to perform some data cleanup tasks.\n",
    "\n",
    "1) Missing data - Handling Nulls"
   ]
  },
  {
   "cell_type": "code",
   "execution_count": 32,
   "id": "eb72a6a2-fd87-4007-9990-cf759711c0aa",
   "metadata": {},
   "outputs": [
    {
     "data": {
      "text/plain": [
       "item        0\n",
       "calories    0\n",
       "fat         0\n",
       "carb        0\n",
       "fiber       0\n",
       "protein     0\n",
       "type        0\n",
       "dtype: int64"
      ]
     },
     "execution_count": 32,
     "metadata": {},
     "output_type": "execute_result"
    }
   ],
   "source": [
    "# List missing data by feature\n",
    "df.isnull().sum()"
   ]
  },
  {
   "cell_type": "markdown",
   "id": "2fe0e33b-fef2-48f9-a7ac-90ea8dbf99b9",
   "metadata": {},
   "source": [
    "Based on the provided output, our initial assumption has been confirmed, as none of the observations contain any missing values (\"NaN\"), which is truly remarkable. To illustrate the process of handling missing data, please refer to the example in the Phase 3 section, where we demonstrate how to address and rectify such instances."
   ]
  },
  {
   "cell_type": "markdown",
   "id": "de2d3c0f-b880-4227-8dce-1cab810fb7bd",
   "metadata": {},
   "source": [
    "2) Droping Duplicates"
   ]
  },
  {
   "cell_type": "code",
   "execution_count": 33,
   "id": "b600888e-c79e-4814-a020-7986f4ac4cf5",
   "metadata": {},
   "outputs": [
    {
     "data": {
      "text/plain": [
       "(77, 7)"
      ]
     },
     "execution_count": 33,
     "metadata": {},
     "output_type": "execute_result"
    }
   ],
   "source": [
    "# But do we have any duplicates? Let's have a look by dropping duplicates from the dataset\n",
    "df = df.drop_duplicates()\n",
    "\n",
    "# Were any duplicates dropped?\n",
    "df.shape"
   ]
  },
  {
   "cell_type": "markdown",
   "id": "592aea5f-8d87-4680-84f4-e918812d9071",
   "metadata": {},
   "source": [
    "Based on the provided output, there are no duplicates as the shape of our dataset stays the same as the original one."
   ]
  },
  {
   "cell_type": "markdown",
   "id": "1731c606-2811-4947-a1b8-00be1d698d70",
   "metadata": {},
   "source": [
    "# Phase 3: Milestones not covered in analysis \n",
    "\n",
    "1) Create pandas DataFrame - we will pre-defined lists and create dictionary to build our DataFrame."
   ]
  },
  {
   "cell_type": "code",
   "execution_count": 61,
   "id": "e6f9d8da-1948-4ae3-8101-adb5fb3cff67",
   "metadata": {},
   "outputs": [
    {
     "name": "stdout",
     "output_type": "stream",
     "text": [
      "    names  age   location   country\n",
      "0   Mirka   28     Dublin   Ireland\n",
      "1   Pavle   32     Dublin   Ireland\n",
      "2  Monika   44   Piestany  Slovakia\n",
      "3   Edita   74  Topolcany  Slovakia\n",
      "    names   country\n",
      "0   Mirka   Ireland\n",
      "1   Pavle   Ireland\n",
      "2  Monika  Slovakia\n",
      "3   Edita  Slovakia\n",
      "    names  age  location   country\n",
      "1   Pavle   32    Dublin   Ireland\n",
      "2  Monika   44  Piestany  Slovakia\n"
     ]
    }
   ],
   "source": [
    "# Pre-defined lists\n",
    "n = [\"Mirka\", \"Pavle\", \"Monika\", \"Edita\"]\n",
    "a = [28, 32, 44, 74]\n",
    "l = [\"Dublin\", \"Dublin\", \"Piestany\", \"Topolcany\"]\n",
    "c = [\"Ireland\", \"Ireland\", \"Slovakia\", \"Slovakia\"]\n",
    "\n",
    "# Import Pandas as pd\n",
    "import pandas as pd\n",
    "\n",
    "# Create dictionary my_family with 4 key:value pairs my_family\n",
    "my_family = {\"names\": n, \"age\": a, \"location\": l, \"country\": c}\n",
    "\n",
    "# Build a DataFrame family from my_family: family\n",
    "family = pd.DataFrame(my_family)\n",
    "\n",
    "# Print family\n",
    "print(family)\n",
    "print(family[[\"names\", \"country\"]])\n",
    "print(family[1:3])"
   ]
  },
  {
   "cell_type": "markdown",
   "id": "ad1891ad-f230-4e01-b1ff-b028b0ba3523",
   "metadata": {},
   "source": [
    "2) Dictionary or Lists\n",
    "\n",
    "We chose to experiment with dictionaries, as lists have the flexibility to hold various types of elements, including other lists, and dictionaries are equally capable. Dictionaries allow us to store key-value pairs, where the values can themselves be dictionaries."
   ]
  },
  {
   "cell_type": "code",
   "execution_count": 62,
   "id": "08aa50c3-acb6-4129-90b2-fdece9e6c56b",
   "metadata": {},
   "outputs": [
    {
     "name": "stdout",
     "output_type": "stream",
     "text": [
      "28\n",
      "{'Mirka': {'age': 28, 'location': 'Dublin', 'country': 'Ireland'}, 'Pavle': {'age': 32, 'location': 'Dublin', 'country': 'Ireland'}, 'Monika': {'age': 44, 'location': 'Piestany', 'country': 'Slovakia'}, 'Edita': {'age': 74, 'location': 'Topolcany', 'country': 'Slovakia'}}\n"
     ]
    }
   ],
   "source": [
    "my_family_information = {\"Mirka\": {\"age\": 28, \"location\": \"Dublin\", \"country\": \"Ireland\"},\n",
    "                        \"Pavle\": {\"age\": 32, \"location\": \"Dublin\", \"country\": \"Ireland\"},\n",
    "                         \"Monika\": {\"age\": 44, \"location\": \"Piestany\", \"country\": \"Slovakia\"}}\n",
    "# Print out Mirka's age\n",
    "print(my_family_information[\"Mirka\"] [\"age\"])\n",
    "\n",
    "# Create sub-dictionary new_data\n",
    "new_data = {\"age\": 74, \"location\": \"Topolcany\", \"country\": \"Slovakia\"}\n",
    "\n",
    "# Add new_data to my_family_information under key \"Edita\"\n",
    "my_family_information[\"Edita\"] = new_data\n",
    "\n",
    "# Print my_family_information\n",
    "print(my_family_information)"
   ]
  },
  {
   "cell_type": "markdown",
   "id": "36f30bd5-f82b-4d95-816e-ad331d236360",
   "metadata": {},
   "source": [
    "We know that my_family_information is dictionary however let's see what output we get using Conditional statements."
   ]
  },
  {
   "cell_type": "code",
   "execution_count": 65,
   "id": "f90a1e8c-33fd-46b8-b26d-b851ebe24362",
   "metadata": {},
   "outputs": [
    {
     "name": "stdout",
     "output_type": "stream",
     "text": [
      "My family information is dictionary.\n"
     ]
    },
    {
     "data": {
      "text/plain": [
       "dict"
      ]
     },
     "execution_count": 65,
     "metadata": {},
     "output_type": "execute_result"
    }
   ],
   "source": [
    "if type(my_family_information) == dict:\n",
    "    print(\"My family information is dictionary.\")\n",
    "elif type(my_family_information) == list:\n",
    "    print(\"My family information is list.\")\n",
    "else:\n",
    "    print(\"My family information is neither a dictionary nor a list.\")\n",
    "type(my_family_information)"
   ]
  },
  {
   "cell_type": "markdown",
   "id": "a2e479df-a71e-4630-a406-654f73431a22",
   "metadata": {},
   "source": [
    "3) Looping"
   ]
  },
  {
   "cell_type": "code",
   "execution_count": 43,
   "id": "8d00d1a7-7c43-44e9-8dfc-0f866663dbb5",
   "metadata": {},
   "outputs": [
    {
     "name": "stdout",
     "output_type": "stream",
     "text": [
      "67\n",
      "131\n",
      "148\n",
      "195\n",
      "250\n"
     ]
    }
   ],
   "source": [
    "# For loop using a tuple\n",
    "\n",
    "carb = (67, 64, 17, 47, 55)\n",
    "sum = 0\n",
    "for i in carb:\n",
    "    sum = sum + i\n",
    "    print (sum)"
   ]
  },
  {
   "cell_type": "markdown",
   "id": "2d9a6453-daba-49d5-a391-3ebff67ec75e",
   "metadata": {},
   "source": [
    "4) NumPy Function"
   ]
  },
  {
   "cell_type": "code",
   "execution_count": 51,
   "id": "082b751c-576f-428b-bc29-1cd3b918e143",
   "metadata": {},
   "outputs": [
    {
     "name": "stdout",
     "output_type": "stream",
     "text": [
      "Mean Age: 44.5\n",
      "Median Age: 38.0\n",
      "Standard Deviation: 18.0208212909401\n"
     ]
    }
   ],
   "source": [
    "import pandas as pd\n",
    "import numpy as np\n",
    "\n",
    "def calculate_statistics(df):\n",
    "    # Convert the 'Age' column to a NumPy array\n",
    "    age_array = np.array(df['Age'])\n",
    "   \n",
    "    # Calculate statistics using NumPy functions\n",
    "    mean_age = np.mean(age_array)\n",
    "    median_age = np.median(age_array)\n",
    "    std_dev = np.std(age_array)\n",
    "   \n",
    "    # Print the calculated statistics\n",
    "    print(\"Mean Age:\", mean_age)\n",
    "    print(\"Median Age:\", median_age)\n",
    "    print(\"Standard Deviation:\", std_dev)\n",
    "   \n",
    "    # Return the DataFrame or any other desired output\n",
    "    return df\n",
    "\n",
    "# Create a DataFrame\n",
    "data = {\"Name\": [\"Mirka\", \"Pavle\", \"Monika\", \"Edita\"],\n",
    "        \"Age\": [28, 32, 44, 74],\n",
    "        \"City\": [\"Dublin\", \"Dublin\", \"Piestany\", \"Topolcany\"]}\n",
    "\n",
    "df = pd.DataFrame(data)\n",
    "\n",
    "# Call the custom function to calculate statistics\n",
    "processed_df = calculate_statistics(df)"
   ]
  },
  {
   "cell_type": "markdown",
   "id": "b44ab318-4106-402c-8de7-1f4e52fbf84e",
   "metadata": {},
   "source": [
    "5) Define a custom function to create reusable code"
   ]
  },
  {
   "cell_type": "code",
   "execution_count": 52,
   "id": "b5a14fc4-1474-4747-89bf-2f1c085c2f53",
   "metadata": {},
   "outputs": [
    {
     "name": "stdout",
     "output_type": "stream",
     "text": [
      "Average Age: 44.5\n"
     ]
    }
   ],
   "source": [
    "import pandas as pd\n",
    "\n",
    "def process_data(df):\n",
    "    # Perform data processing tasks on the DataFrame\n",
    "    # For example, let's calculate the average age\n",
    "    avg_age = df['Age'].mean()\n",
    "    \n",
    "    # Print the average age\n",
    "    print(\"Average Age:\", avg_age)\n",
    "    \n",
    "    # Return the processed DataFrame or any other desired output\n",
    "    return df\n",
    "\n",
    "# Create a DataFrame\n",
    "data = {\"Name\": [\"Mirka\", \"Pavle\", \"Monika\", \"Edita\"],\n",
    "        \"Age\": [28, 32, 44, 74],\n",
    "        \"City\": [\"Dublin\", \"Dublin\", \"Piestany\", \"Topolcany\"]}\n",
    "\n",
    "df = pd.DataFrame(data)\n",
    "\n",
    "# Call the custom function to process the DataFrame\n",
    "processed_df = process_data(df)"
   ]
  },
  {
   "cell_type": "markdown",
   "id": "09736037-3e0d-4112-a573-fc6a43e7ad61",
   "metadata": {},
   "source": [
    "6) Repleacing missing values\n",
    "\n",
    "a) Based on our data"
   ]
  },
  {
   "cell_type": "markdown",
   "id": "c5cc0148-49db-40ed-b6bf-93f43001dc8e",
   "metadata": {},
   "source": [
    "As we have no missing values we can not replace the data, however this is the code I would use if there is some missing data using fiber as example:\n",
    "    \n",
    "#Unique value for fiber\n",
    "df.fiber.unique()\n",
    "\n",
    "We could get lets say array([nan,  1.]) so we have to fix the missing value\n",
    "\n",
    "#Missing fiber values will be 0\n",
    "df['fiber'] = df.fiber.fillna(0)\n",
    "\n",
    "Now we have to confirm that we have a true indicator variable\n",
    "\n",
    "#Unique value for fiber\n",
    "df.fiber.unique()\n",
    "\n",
    "now we should get array([0., 1.]) which means that fiber featured is fixed!  "
   ]
  },
  {
   "cell_type": "markdown",
   "id": "93f7c021-3046-4bf1-a55b-75e318717d36",
   "metadata": {},
   "source": [
    "b) Bassed on my_list example"
   ]
  },
  {
   "cell_type": "code",
   "execution_count": 50,
   "id": "ae2bd021-31e2-43ec-be4e-8cdfadeaf090",
   "metadata": {},
   "outputs": [
    {
     "name": "stdout",
     "output_type": "stream",
     "text": [
      "[1, 2, 0, 4, 0, 6]\n"
     ]
    }
   ],
   "source": [
    "   my_list = [1, 2, None, 4, None, 6]\n",
    "   replacement_value = 0\n",
    "\n",
    "   for i in range(len(my_list)):\n",
    "       if my_list[i] is None:\n",
    "           my_list[i] = replacement_value\n",
    "\n",
    "   print(my_list)"
   ]
  },
  {
   "cell_type": "markdown",
   "id": "003ed358-53a4-4819-bc12-011474f10b53",
   "metadata": {},
   "source": [
    "7) Merge DataFrame"
   ]
  },
  {
   "cell_type": "markdown",
   "id": "c83c8b65-2c52-4649-b5bb-ad471f8581c3",
   "metadata": {},
   "source": [
    "8) APIs"
   ]
  },
  {
   "cell_type": "code",
   "execution_count": 48,
   "id": "1bf2d8f5-8ef9-4ee1-8a25-60573c6b7b1c",
   "metadata": {},
   "outputs": [
    {
     "data": {
      "text/plain": [
       "<Response [200]>"
      ]
     },
     "execution_count": 48,
     "metadata": {},
     "output_type": "execute_result"
    }
   ],
   "source": [
    "import requests\n",
    "\n",
    "requests.get(\"https://www.kaggle.com/datasets/utkarshx27/starbucks-nutrition\")"
   ]
  },
  {
   "cell_type": "markdown",
   "id": "8f57dafd-d507-498a-be02-5cf0c6c9c6c6",
   "metadata": {},
   "source": [
    "Based on the provided output, we can see that the response status is 200, therefore the request was successful."
   ]
  },
  {
   "cell_type": "code",
   "execution_count": null,
   "id": "2b2c95e0-1ffa-41e4-b53f-69b764b28bed",
   "metadata": {},
   "outputs": [],
   "source": []
  }
 ],
 "metadata": {
  "kernelspec": {
   "display_name": "Python 3",
   "language": "python",
   "name": "python3"
  },
  "language_info": {
   "codemirror_mode": {
    "name": "ipython",
    "version": 3
   },
   "file_extension": ".py",
   "mimetype": "text/x-python",
   "name": "python",
   "nbconvert_exporter": "python",
   "pygments_lexer": "ipython3",
   "version": "3.8.8"
  }
 },
 "nbformat": 4,
 "nbformat_minor": 5
}
